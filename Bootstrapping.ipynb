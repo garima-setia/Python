{
 "cells": [
  {
   "cell_type": "code",
   "execution_count": null,
   "id": "bd6464f3",
   "metadata": {},
   "outputs": [],
   "source": [
    "Bootstrapping"
   ]
  },
  {
   "cell_type": "code",
   "execution_count": null,
   "id": "4ab7df06",
   "metadata": {},
   "outputs": [],
   "source": [
    "import numpy\n",
    "\n",
    "def readValues(FileName):\n",
    "    \"\"\"\"This function will read input file\"\"\" \n",
    "    InputName = FileName #set name for input text file\n",
    "    InputFile = open(InputName, 'r') #open the input file to read\n",
    "    Input=InputFile.readline() #read through the file\n",
    "    InputFile.close()#closes the file \n",
    "    Input = Input.rstrip() #automatically remove line ending character \"/n\" \n",
    "    Input = Input.split(',') #split the data by commas\n",
    "    for i in range(len(Input)):\n",
    "        Input[i] = int(Input[i]) #loops through the values within file and convert them to integers\n",
    "    return Input\n",
    "readValues(\"Intextfile.txt\")\n",
    "\n",
    "iterations = 400 \n",
    "def bootstrap(x, iterations, funct):\n",
    "    \"\"\"\"This function will calculate bootstrap for the input values (by default 400 times, but it can also be changed)\"\"\"\n",
    "    x = numpy.array(x) \n",
    "    resampled_stat = [] #make an empty list\n",
    "    for k in range(iterations): #this will loop over the input 400 (or number of iterations) times\n",
    "        random_index = numpy.random.randint(0, len(x), len(x)) #random number generator between index \"0\" to index \"length of input\"\n",
    "        sample = x[random_index]\n",
    "        resampled_stat.append(funct(sample)) #apply desired fuction to the input and add to the list\n",
    "    return numpy.array(resampled_stat)\n",
    "\n",
    "Mean_bootstrap = bootstrap(Input, iterations, numpy.mean)\n",
    "Average = numpy.mean(Mean_bootstrap) #calculate average\n",
    "\n",
    "lower_limit = numpy.percentile(Input, 2.5) #calculate lower limit of confidence interval\n",
    "upper_limit = numpy.percentile(Input, 97.5)#calculate upper limit of confidence interval\n",
    "\n",
    "def save(outFileName):\n",
    "    \"\"\"\"This function allows user to either print or save the output\"\"\"\n",
    "    Output_As = input(\"Print or Save?\") #Ask user to type either print or save\n",
    "    if Output_As == \"Print\": \n",
    "        print(\"The average is\" + str(Average) + \",the lower limit is\" + str(lower_limit) + \"and the upper limit is\" + str(upper_limit))\n",
    "    elif Output_As == \"Save\":\n",
    "        OutputName = outFileName\n",
    "        OutputFile = open(OutputName, 'w') #open the output file to write\n",
    "        OutputFile.write(\"The average is\" + str(Average) + \",the lower limit is\" + str(lower_limit) + \"and the upper limit is\" + str(upper_limit))\n",
    "        OutputFile.close()\n",
    "    \n",
    "save(\"Outtextfile.txt\")"
   ]
  }
 ],
 "metadata": {
  "kernelspec": {
   "display_name": "Python 3 (ipykernel)",
   "language": "python",
   "name": "python3"
  },
  "language_info": {
   "codemirror_mode": {
    "name": "ipython",
    "version": 3
   },
   "file_extension": ".py",
   "mimetype": "text/x-python",
   "name": "python",
   "nbconvert_exporter": "python",
   "pygments_lexer": "ipython3",
   "version": "3.9.7"
  }
 },
 "nbformat": 4,
 "nbformat_minor": 5
}
