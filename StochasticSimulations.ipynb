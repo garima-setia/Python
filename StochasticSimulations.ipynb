{
 "cells": [
  {
   "cell_type": "code",
   "execution_count": 82,
   "id": "a0181e20",
   "metadata": {},
   "outputs": [],
   "source": [
    "#importing modules\n",
    "import numpy as np\n",
    "import random\n",
    "from matplotlib import pyplot as plt"
   ]
  },
  {
   "cell_type": "code",
   "execution_count": 83,
   "id": "4b5cdd71",
   "metadata": {},
   "outputs": [],
   "source": [
    "#Initial Population\n",
    "N0 = np.array([200, 200, 200])\n",
    "##These are projection matrices/transition matrices. \n",
    "A = np.array([[ 0, 0 ,1.73], [ 0.5, 0.95 ,0.6], [ 0.03, 0.03 ,0.38]])#Good year (More rain)\n",
    "B = np.array([[ 0, 0 ,1.73], [ 0.5, 0.875 ,0.6], [ 0.03, 0.03 ,0.38]])#Bad year (Less rain)\n",
    "years = 50\n",
    "\n",
    "class superclass:\n",
    "    def __init__(self, A, B, N0, years):\n",
    "        \"\"\"It stores information about initial population, transition matrices and time period\"\"\"\n",
    "        self.A = A\n",
    "        self.B = B\n",
    "        self.N0 = N0\n",
    "        self.years = years\n",
    "              \n",
    "    def bootstrap(self, A, B, N0, years):\n",
    "        N= np.zeros((51,3)) #build a storage array that stores the population of each stage in every year\n",
    "        N[0,] = N0 #Fill in the year 0 with initial population \n",
    "        simulations = 1000 #no of simulations\n",
    "        pop_size=np.zeros((1000,1))\n",
    "        extinction= np.zeros((51,1000)) \n",
    "        list1 = (\"bad\", \"good\") \n",
    "        for j in range(simulations): #loop through the simulations\n",
    "            #a stochastic program where each transition-good or bad-is equally likely\n",
    "            for i in range(years): #loop through good/bad transition matrix\n",
    "                random_year=random.choice(list1) \n",
    "                if random_year==\"bad\":\n",
    "                    mat=B\n",
    "                if random_year==\"good\":\n",
    "                    mat=A\n",
    "                #Update the population using matrix multiplication of transition matrix and previous year abundance \n",
    "                #to get this year abundance\n",
    "                N[i+1,] = mat.dot(N[i,])\n",
    "                #let, the quasi-extinction level is 100\n",
    "                #if the population size is less than 100, population will go extinct and \n",
    "                #if it is more than 100 it does not go extinct\n",
    "                if sum(N[i+1,])>100: \n",
    "                    extinction[i,j]=0\n",
    "                if sum(N[i+1,])<=100:\n",
    "                    extinction[i,j]=1\n",
    "                pop_size[j,:]=sum(N[i,])\n",
    "            \n",
    "        return pop_size\n",
    "        "
   ]
  },
  {
   "cell_type": "code",
   "execution_count": 84,
   "id": "099bd05e",
   "metadata": {},
   "outputs": [],
   "source": [
    "pop = superclass(A, B, N0, years)\n",
    "pop_size = pop.bootstrap(A, B, N0, years)"
   ]
  },
  {
   "cell_type": "code",
   "execution_count": 85,
   "id": "974273ad",
   "metadata": {
    "scrolled": true
   },
   "outputs": [
    {
     "data": {
      "image/png": "[encoded data removed]",
      "text/plain": [
       "<Figure size 432x288 with 1 Axes>"
      ]
     },
     "metadata": {
      "needs_background": "light"
     },
     "output_type": "display_data"
    }
   ],
   "source": [
    "#plot a histogram\n",
    "plt.hist(pop_size,50)\n",
    "plt.axvline(x = 100, color = 'r', label = 'Quasi-extinction level')\n",
    "plt.xlabel('Population size')\n",
    "plt.ylabel('Frequency')\n",
    "plt.legend(loc='upper right')\n",
    "plt.savefig(\"popsizeplot.jpg\", dpi=900)\n",
    "plt.show()\n"
   ]
  },
  {
   "cell_type": "markdown",
   "id": "efc44857",
   "metadata": {},
   "source": [
    "Conclusion: Since the quasi-extinction level (100) is less than the lowest extinction level, it can be said that population is not on the verge of extinction, regardless of it being a year with more rain or less rain."
   ]
  }
 ],
 "metadata": {
  "kernelspec": {
   "display_name": "Python 3 (ipykernel)",
   "language": "python",
   "name": "python3"
  },
  "language_info": {
   "codemirror_mode": {
    "name": "ipython",
    "version": 3
   },
   "file_extension": ".py",
   "mimetype": "text/x-python",
   "name": "python",
   "nbconvert_exporter": "python",
   "pygments_lexer": "ipython3",
   "version": "3.9.7"
  }
 },
 "nbformat": 4,
 "nbformat_minor": 5
}
