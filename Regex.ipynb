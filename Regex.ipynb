{
 "cells": [
  {
   "cell_type": "code",
   "execution_count": 7,
   "id": "ca5fcad2",
   "metadata": {},
   "outputs": [],
   "source": [
    "import re"
   ]
  },
  {
   "cell_type": "code",
   "execution_count": 14,
   "id": "33513d09",
   "metadata": {},
   "outputs": [],
   "source": [
    "import matplotlib.pyplot as plt\n",
    "import numpy"
   ]
  },
  {
   "cell_type": "markdown",
   "id": "f5e38c99",
   "metadata": {},
   "source": [
    "1. Was there a difference in average temperature between Sept of 2016 and 2017?"
   ]
  },
  {
   "cell_type": "code",
   "execution_count": 12,
   "id": "7b72796b",
   "metadata": {},
   "outputs": [],
   "source": [
    "file1 = open(\"kirchner-2020-M2_2016-2017_40m_BelowLakeLevel.csv\",'r').read() #read the csv file"
   ]
  },
  {
   "cell_type": "code",
   "execution_count": 29,
   "id": "49d5623f",
   "metadata": {},
   "outputs": [],
   "source": [
    "input1 = re.findall(r\"9\\/.*\\/2016\\,.*\\,(\\w*\\.\\w*)\", file1) #temperatures of sept 2016 \n",
    "input2 = re.findall(r\"9\\/.*\\/2017\\,.*\\,(\\w*\\.\\w*)\", file1) #temperatures of sept 2017"
   ]
  },
  {
   "cell_type": "code",
   "execution_count": 20,
   "id": "61d6250e",
   "metadata": {},
   "outputs": [
    {
     "name": "stdout",
     "output_type": "stream",
     "text": [
      "4.344493910256411\n"
     ]
    }
   ],
   "source": [
    "sept2016 = [] #empty list for the temperatures of 2016\n",
    "#convert temperature values to floating numbers\n",
    "for val in range(len(input1)):\n",
    "   s1 = float(input1[val])\n",
    "   sept2016.append(s1) #add values to the list\n",
    "    \n",
    "average2016= numpy.mean(sept2016) #average value for the temperature\n",
    "print(average2016)"
   ]
  },
  {
   "cell_type": "code",
   "execution_count": 21,
   "id": "76a54175",
   "metadata": {},
   "outputs": [
    {
     "name": "stdout",
     "output_type": "stream",
     "text": [
      "3.8832507747318235\n"
     ]
    }
   ],
   "source": [
    "sept2017 = [] #empty list for the temperatures of 2017\n",
    "#convert temperature values to floating numbers\n",
    "for val in range(len(input2)):\n",
    "   s2 = float(input2[val])\n",
    "   sept2017.append(s2) #add values to the list\n",
    "    \n",
    "average2017= numpy.mean(sept2017) #average value for the temperature\n",
    "print(average2017)"
   ]
  },
  {
   "cell_type": "code",
   "execution_count": 23,
   "id": "5863eddb",
   "metadata": {
    "scrolled": true
   },
   "outputs": [
    {
     "data": {
      "image/png": "[encoded data removed]",
      "text/plain": [
       "<Figure size 432x288 with 1 Axes>"
      ]
     },
     "metadata": {
      "needs_background": "light"
     },
     "output_type": "display_data"
    }
   ],
   "source": [
    "#creating bar plot\n",
    "bars = (\"Sept 2016\", \"Sept 2017\")\n",
    "avg = [average2016, average2017]\n",
    "plt.bar(bars, avg)\n",
    "plt.xlabel(\"Year\")\n",
    "plt.ylabel(\"Mean Temperature\") \n",
    "plt.show() "
   ]
  },
  {
   "cell_type": "markdown",
   "id": "de6dfbf2",
   "metadata": {},
   "source": [
    "Temperature in september 2016 was higher than september 2017."
   ]
  },
  {
   "cell_type": "markdown",
   "id": "c1945377",
   "metadata": {},
   "source": [
    "2. Which depth was warmest throughout the year in 2019?"
   ]
  },
  {
   "cell_type": "code",
   "execution_count": 63,
   "id": "a8ca4c27",
   "metadata": {},
   "outputs": [],
   "source": [
    "#read through the files\n",
    "file22 = open(\"kirchner-2020-M1_2019_2m_BelowLakeLevel.csv\",'r').read()\n",
    "file33 = open(\"kirchner-2020-M1_2019_4m_BelowLakeLevel.csv\",'r').read()\n",
    "file44 = open(\"kirchner-2020-M1_2019_6m_BelowLakeLevel.csv\",'r').read()"
   ]
  },
  {
   "cell_type": "code",
   "execution_count": 64,
   "id": "00817482",
   "metadata": {},
   "outputs": [],
   "source": [
    "input22 = re.findall(r\".*2019\\s.*\\,(\\w*\\.\\w*)\", file22) #Temperature at 2m depth\n",
    "input33 = re.findall(r\".*2019\\s.*\\,(\\w*\\.\\w*)\", file33) #Temperature at 4m depth\n",
    "input44 = re.findall(r\".*2019\\s.*\\,(\\w*\\.\\w*)\", file44) #Temperature at 6m depth"
   ]
  },
  {
   "cell_type": "code",
   "execution_count": 65,
   "id": "878d4044",
   "metadata": {},
   "outputs": [],
   "source": [
    "#adding floating values of temperature to a list\n",
    "two_m = []\n",
    "for val in range(len(input22)):\n",
    "   a1 = float(input22[val])\n",
    "   two_m.append(a1)"
   ]
  },
  {
   "cell_type": "code",
   "execution_count": 66,
   "id": "e5efd14e",
   "metadata": {},
   "outputs": [],
   "source": [
    "four_m = []\n",
    "for val in range(len(input33)):\n",
    "   a2 = float(input33[val])\n",
    "   four_m.append(a2)"
   ]
  },
  {
   "cell_type": "code",
   "execution_count": 67,
   "id": "c02eef3b",
   "metadata": {},
   "outputs": [],
   "source": [
    "six_m = []\n",
    "for val in range(len(input44)):\n",
    "   a3 = float(input44[val])\n",
    "   six_m.append(a3)"
   ]
  },
  {
   "cell_type": "code",
   "execution_count": 89,
   "id": "5f9d3b10",
   "metadata": {},
   "outputs": [
    {
     "data": {
      "image/png": "[encoded data removed]",
      "text/plain": [
       "<Figure size 432x288 with 1 Axes>"
      ]
     },
     "metadata": {
      "needs_background": "light"
     },
     "output_type": "display_data"
    }
   ],
   "source": [
    "#creating a boxplot\n",
    "Boxplot = plt.boxplot([two_m, four_m, six_m], labels=['2m', '4m', '6m'])\n",
    "Boxplot = plt.xlabel(\"Depth\")\n",
    "Boxplot = plt.ylabel(\"Mean Temperature\")\n",
    "plt.show()"
   ]
  },
  {
   "cell_type": "markdown",
   "id": "f19fd0d9",
   "metadata": {},
   "source": [
    "In 2019, mean temperature was slightly higher at 6m depth as compared to 4m and 2m. "
   ]
  },
  {
   "cell_type": "markdown",
   "id": "8b2e4ce9",
   "metadata": {},
   "source": [
    "3. Was the temperature consistent at a particular time (3:00pm) throughout 2019?"
   ]
  },
  {
   "cell_type": "code",
   "execution_count": 81,
   "id": "ea4c15f9",
   "metadata": {},
   "outputs": [],
   "source": [
    "file55 = open(\"kirchner-2020-M1_2019_6m_BelowLakeLevel.csv\",'r').read() #reading through the file\n",
    "input55 = re.findall(r\".*2019\\s3:..\\,(\\w*\\.\\w*)\", file55) #all the temperatures at 3pm in 2019\n",
    "\n",
    "#adding floating values of temperature to a list\n",
    "temp_at_3 = []\n",
    "for val in range(len(input55)):\n",
    "   a4 = float(input55[val])\n",
    "   temp_at_3.append(a4)"
   ]
  },
  {
   "cell_type": "code",
   "execution_count": 104,
   "id": "79dd643b",
   "metadata": {},
   "outputs": [
    {
     "data": {
      "image/png": "[encoded data removed]",
      "text/plain": [
       "<Figure size 360x360 with 1 Axes>"
      ]
     },
     "metadata": {
      "needs_background": "light"
     },
     "output_type": "display_data"
    }
   ],
   "source": [
    "# Creating histogram\n",
    "fig, axs = plt.subplots(1, 1, figsize =(5, 5), tight_layout = True)\n",
    "axs.grid(b = True, color ='grey', linestyle ='-.', linewidth = 0.5, alpha = 0.6) # Add x, y gridlines\n",
    "\n",
    "plt.hist(temp_at_3,30)\n",
    "plt.xlabel(\"Temperature\")\n",
    "plt.title('Variation of temprature at 3pm throughout 2019')\n",
    "plt.show()\n"
   ]
  },
  {
   "cell_type": "markdown",
   "id": "43c681af",
   "metadata": {},
   "source": [
    "In 2019, the temperatures at 3pm are more skewed towards the left (between 1 and 2)."
   ]
  },
  {
   "cell_type": "code",
   "execution_count": null,
   "id": "c7cfe3a9",
   "metadata": {},
   "outputs": [],
   "source": []
  }
 ],
 "metadata": {
  "kernelspec": {
   "display_name": "Python 3 (ipykernel)",
   "language": "python",
   "name": "python3"
  },
  "language_info": {
   "codemirror_mode": {
    "name": "ipython",
    "version": 3
   },
   "file_extension": ".py",
   "mimetype": "text/x-python",
   "name": "python",
   "nbconvert_exporter": "python",
   "pygments_lexer": "ipython3",
   "version": "3.9.7"
  }
 },
 "nbformat": 4,
 "nbformat_minor": 5
}
